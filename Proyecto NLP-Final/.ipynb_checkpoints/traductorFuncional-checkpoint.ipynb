{
 "cells": [
  {
   "cell_type": "code",
   "execution_count": 1,
   "metadata": {},
   "outputs": [],
   "source": [
    "from Traductor import translater"
   ]
  },
  {
   "cell_type": "code",
   "execution_count": 2,
   "metadata": {},
   "outputs": [
    {
     "name": "stdout",
     "output_type": "stream",
     "text": [
      "As aves são animais vertebrados, de sangue quente, que andam, saltam ou ficam de pé apenas nos seus membros posteriores.\r\n",
      "\n"
     ]
    }
   ],
   "source": [
    "translate = 'Las aves son animales vertebrados, de sangre caliente, que caminan, saltan o se mantienen solo sobre las extremidades posteriores.'\n",
    "lan_source = 'ES'\n",
    "lan_to = 'PT'\n",
    "print(translater(translate, lan_source, lan_to))"
   ]
  },
  {
   "cell_type": "code",
   "execution_count": 3,
   "metadata": {},
   "outputs": [
    {
     "name": "stdout",
     "output_type": "stream",
     "text": [
      "Birds are vertebrate, warm-blooded animals that walk, hop or stand only on their hind limbs.\r\n",
      "\n"
     ]
    }
   ],
   "source": [
    "print(translater(translate))"
   ]
  },
  {
   "cell_type": "code",
   "execution_count": 4,
   "metadata": {},
   "outputs": [
    {
     "name": "stdout",
     "output_type": "stream",
     "text": [
      "Las aves son animales vertebrados de sangre caliente que caminan, saltan o se sostienen sólo sobre sus extremidades traseras.\r\n",
      "\n"
     ]
    }
   ],
   "source": [
    "print(translater('Birds are vertebrate, warm-blooded animals that walk, hop or stand only on their hind limbs.', 'EN', 'ES'))"
   ]
  },
  {
   "cell_type": "code",
   "execution_count": 5,
   "metadata": {},
   "outputs": [
    {
     "name": "stdout",
     "output_type": "stream",
     "text": [
      "Птицы - это позвоночные теплокровные животные, которые ходят, прыгают или стоят только на задних конечностях.\r\n",
      "\n"
     ]
    }
   ],
   "source": [
    "print(translater('Birds are vertebrate, warm-blooded animals that walk, hop or stand only on their hind limbs.', 'EN', 'RU'))"
   ]
  },
  {
   "cell_type": "code",
   "execution_count": 5,
   "metadata": {},
   "outputs": [
    {
     "name": "stdout",
     "output_type": "stream",
     "text": [
      "Las aves son animales vertebrados de sangre caliente que caminan, saltan o se mantienen en pie únicamente sobre sus extremidades traseras.\r\n",
      "\n"
     ]
    }
   ],
   "source": [
    "print(translater('Птицы - это позвоночные теплокровные животные, которые ходят, прыгают или стоят только на задних конечностях.', \n",
    "                 'RU', 'ES'))"
   ]
  },
  {
   "cell_type": "code",
   "execution_count": null,
   "metadata": {},
   "outputs": [],
   "source": []
  }
 ],
 "metadata": {
  "kernelspec": {
   "display_name": "Python 3",
   "language": "python",
   "name": "python3"
  },
  "language_info": {
   "codemirror_mode": {
    "name": "ipython",
    "version": 3
   },
   "file_extension": ".py",
   "mimetype": "text/x-python",
   "name": "python",
   "nbconvert_exporter": "python",
   "pygments_lexer": "ipython3",
   "version": "3.8.5"
  }
 },
 "nbformat": 4,
 "nbformat_minor": 4
}
