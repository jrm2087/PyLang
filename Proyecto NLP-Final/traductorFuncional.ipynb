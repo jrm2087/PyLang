{
 "cells": [
  {
   "cell_type": "code",
   "execution_count": 2,
   "metadata": {},
   "outputs": [],
   "source": [
    "# pip install traductorPy\n",
    "from traductorPy import Traductor"
   ]
  },
  {
   "cell_type": "code",
   "execution_count": 3,
   "metadata": {},
   "outputs": [
    {
     "name": "stdout",
     "output_type": "stream",
     "text": [
      "Olá mundo!\r\n",
      "\n"
     ]
    }
   ],
   "source": [
    "translate = 'Hola mundo !'\n",
    "lan_source = 'ES'\n",
    "lan_to = 'PT'\n",
    "print(Traductor.translater(translate, lan_source, lan_to))"
   ]
  },
  {
   "cell_type": "code",
   "execution_count": 4,
   "metadata": {},
   "outputs": [
    {
     "name": "stdout",
     "output_type": "stream",
     "text": [
      "Hello world !\r\n",
      "\n"
     ]
    }
   ],
   "source": [
    "print(Traductor.translater(translate))"
   ]
  },
  {
   "cell_type": "code",
   "execution_count": 5,
   "metadata": {},
   "outputs": [
    {
     "name": "stdout",
     "output_type": "stream",
     "text": [
      "Hola, mundo.\r\n",
      "\n"
     ]
    }
   ],
   "source": [
    "print(Traductor.translater('Hello world !', 'EN', 'ES'))"
   ]
  },
  {
   "cell_type": "code",
   "execution_count": 6,
   "metadata": {},
   "outputs": [
    {
     "name": "stdout",
     "output_type": "stream",
     "text": [
      "Привет, мир!\r\n",
      "\n"
     ]
    }
   ],
   "source": [
    "print(Traductor.translater('Hello world !', 'EN', 'RU'))"
   ]
  },
  {
   "cell_type": "code",
   "execution_count": 7,
   "metadata": {},
   "outputs": [
    {
     "name": "stdout",
     "output_type": "stream",
     "text": [
      "¡Hola, mundo!\r\n",
      "\n"
     ]
    }
   ],
   "source": [
    "print(Traductor.translater('Привет, мир!', 'RU', 'ES'))"
   ]
  },
  {
   "cell_type": "code",
   "execution_count": null,
   "metadata": {},
   "outputs": [],
   "source": []
  }
 ],
 "metadata": {
  "kernelspec": {
   "display_name": "Python 3",
   "language": "python",
   "name": "python3"
  },
  "language_info": {
   "codemirror_mode": {
    "name": "ipython",
    "version": 3
   },
   "file_extension": ".py",
   "mimetype": "text/x-python",
   "name": "python",
   "nbconvert_exporter": "python",
   "pygments_lexer": "ipython3",
   "version": "3.8.5"
  }
 },
 "nbformat": 4,
 "nbformat_minor": 4
}
