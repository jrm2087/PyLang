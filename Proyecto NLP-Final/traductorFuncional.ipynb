{
 "cells": [
  {
   "cell_type": "code",
   "execution_count": 8,
   "metadata": {},
   "outputs": [],
   "source": [
    "from Traductor import translater\n",
    "# pip install traductorPy\n",
    "#from traductorPy import Traductor"
   ]
  },
  {
   "cell_type": "code",
   "execution_count": 9,
   "metadata": {},
   "outputs": [
    {
     "name": "stdout",
     "output_type": "stream",
     "text": [
      "Olá mundo!\r\n",
      "\n"
     ]
    }
   ],
   "source": [
    "translate = 'Hola mundo !'\n",
    "lan_source = 'ES'\n",
    "lan_to = 'PT'\n",
    "print(translater(translate, lan_source, lan_to))"
   ]
  },
  {
   "cell_type": "code",
   "execution_count": 4,
   "metadata": {},
   "outputs": [
    {
     "name": "stdout",
     "output_type": "stream",
     "text": [
      "Hello world !\r\n",
      "\n"
     ]
    }
   ],
   "source": [
    "print(Traductor.translater(translate))"
   ]
  },
  {
   "cell_type": "code",
   "execution_count": 7,
   "metadata": {},
   "outputs": [
    {
     "ename": "NameError",
     "evalue": "name 'Traductor' is not defined",
     "output_type": "error",
     "traceback": [
      "\u001b[1;31m---------------------------------------------------------------------------\u001b[0m",
      "\u001b[1;31mNameError\u001b[0m                                 Traceback (most recent call last)",
      "\u001b[1;32m<ipython-input-7-1409b6c9fcdf>\u001b[0m in \u001b[0;36m<module>\u001b[1;34m\u001b[0m\n\u001b[1;32m----> 1\u001b[1;33m \u001b[0mprint\u001b[0m\u001b[1;33m(\u001b[0m\u001b[0mTraductor\u001b[0m\u001b[1;33m.\u001b[0m\u001b[0mtranslater\u001b[0m\u001b[1;33m(\u001b[0m\u001b[1;34m'Hello world !'\u001b[0m\u001b[1;33m,\u001b[0m \u001b[1;34m'EN'\u001b[0m\u001b[1;33m,\u001b[0m \u001b[1;34m'ES'\u001b[0m\u001b[1;33m)\u001b[0m\u001b[1;33m)\u001b[0m\u001b[1;33m\u001b[0m\u001b[1;33m\u001b[0m\u001b[0m\n\u001b[0m",
      "\u001b[1;31mNameError\u001b[0m: name 'Traductor' is not defined"
     ]
    }
   ],
   "source": [
    "print(Traductor.translater('Hello world !', 'EN', 'ES'))"
   ]
  },
  {
   "cell_type": "code",
   "execution_count": 5,
   "metadata": {},
   "outputs": [
    {
     "name": "stdout",
     "output_type": "stream",
     "text": [
      "Привет, мир!\r\n",
      "\n"
     ]
    }
   ],
   "source": [
    "print(Traductor.translater('Hello world !', 'EN', 'RU'))"
   ]
  },
  {
   "cell_type": "code",
   "execution_count": 6,
   "metadata": {},
   "outputs": [
    {
     "name": "stdout",
     "output_type": "stream",
     "text": [
      "¡Hola, mundo!\r\n",
      "\n"
     ]
    }
   ],
   "source": [
    "print(Traductor.translater('Привет, мир!', 'RU', 'ES'))"
   ]
  },
  {
   "cell_type": "code",
   "execution_count": null,
   "metadata": {},
   "outputs": [],
   "source": []
  }
 ],
 "metadata": {
  "kernelspec": {
   "display_name": "Python 3",
   "language": "python",
   "name": "python3"
  },
  "language_info": {
   "codemirror_mode": {
    "name": "ipython",
    "version": 3
   },
   "file_extension": ".py",
   "mimetype": "text/x-python",
   "name": "python",
   "nbconvert_exporter": "python",
   "pygments_lexer": "ipython3",
   "version": "3.8.5"
  }
 },
 "nbformat": 4,
 "nbformat_minor": 4
}
